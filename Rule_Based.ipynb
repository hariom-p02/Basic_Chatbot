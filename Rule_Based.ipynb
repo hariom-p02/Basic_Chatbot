{
  "nbformat": 4,
  "nbformat_minor": 0,
  "metadata": {
    "colab": {
      "provenance": []
    },
    "kernelspec": {
      "name": "python3",
      "display_name": "Python 3"
    },
    "language_info": {
      "name": "python"
    }
  },
  "cells": [
    {
      "cell_type": "code",
      "execution_count": 1,
      "metadata": {
        "id": "Nms5QwF5g4gG"
      },
      "outputs": [],
      "source": [
        "# Define the preset responses for each intent\n",
        "responses = {\n",
        "    \"greeting\": \"Hello! How can I assist you today?\",\n",
        "    \"order_status\": \"You can track your order using the tracking number sent to your email.\",\n",
        "    \"return_policy\": \"Our return policy allows returns within 30 days of delivery.\",\n",
        "    \"working_hours\": \"Our working hours are from 9 AM to 6 PM, Monday to Friday.\",\n",
        "    \"contact\": \"You can contact us at support@example.com or call 1800-000-000.\",\n",
        "    \"goodbye\": \"Thank you for reaching out. Have a great day!\",\n",
        "    \"unknown\": \"I'm sorry, I didn't understand that. Can you please rephrase?\"\n",
        "}\n"
      ]
    },
    {
      "cell_type": "code",
      "source": [
        "# Keywords that match user inputs to intents\n",
        "keywords = {\n",
        "    \"greeting\": [\"hi\", \"hello\", \"hey\"],\n",
        "    \"order_status\": [\"order\", \"track\", \"shipping\"],\n",
        "    \"return_policy\": [\"return\", \"refund\", \"exchange\"],\n",
        "    \"working_hours\": [\"time\", \"hours\", \"open\", \"close\"],\n",
        "    \"contact\": [\"email\", \"contact\", \"support\", \"phone\", \"call\"],\n",
        "    \"goodbye\": [\"bye\", \"thanks\", \"thank you\", \"see you\"]\n",
        "}\n"
      ],
      "metadata": {
        "id": "6OAfq8QWhDG6"
      },
      "execution_count": 2,
      "outputs": []
    },
    {
      "cell_type": "code",
      "source": [
        "# Function to find intent based on user input\n",
        "def get_intent(user_input):\n",
        "    user_input = user_input.lower()\n",
        "    for intent, keyword_list in keywords.items():\n",
        "        for word in keyword_list:\n",
        "            if word in user_input:\n",
        "                return intent\n",
        "    return \"unknown\"\n"
      ],
      "metadata": {
        "id": "mZplMMT_hFHs"
      },
      "execution_count": 3,
      "outputs": []
    },
    {
      "cell_type": "code",
      "source": [
        "# Generate response based on matched intent\n",
        "def chatbot_response(user_input):\n",
        "    intent = get_intent(user_input)\n",
        "    return responses[intent]\n"
      ],
      "metadata": {
        "id": "4WcMTtHchHr9"
      },
      "execution_count": 4,
      "outputs": []
    },
    {
      "cell_type": "code",
      "source": [
        "# Interactive chatbot loop (text-based)\n",
        "def chat():\n",
        "    print(\"Customer Service Bot: Hi there! Type 'exit' to end the chat.\")\n",
        "    while True:\n",
        "        user_input = input(\"You: \")\n",
        "        if user_input.lower() == \"exit\":\n",
        "            print(\"Customer Service Bot:\", responses[\"goodbye\"])\n",
        "            break\n",
        "        response = chatbot_response(user_input)\n",
        "        print(\"Customer Service Bot:\", response)\n"
      ],
      "metadata": {
        "id": "7WWdOZ91hJxT"
      },
      "execution_count": 5,
      "outputs": []
    },
    {
      "cell_type": "code",
      "source": [
        "# Run the chatbot function\n",
        "chat()\n"
      ],
      "metadata": {
        "colab": {
          "base_uri": "https://localhost:8080/"
        },
        "id": "ALLm9pMmhM89",
        "outputId": "c0f358be-f2f2-41d0-f485-a5b635ac8565"
      },
      "execution_count": 6,
      "outputs": [
        {
          "output_type": "stream",
          "name": "stdout",
          "text": [
            "Customer Service Bot: Hi there! Type 'exit' to end the chat.\n",
            "You: hi\n",
            "Customer Service Bot: Hello! How can I assist you today?\n",
            "You: track my order\n",
            "Customer Service Bot: You can track your order using the tracking number sent to your email.\n",
            "You: thanks\n",
            "Customer Service Bot: Thank you for reaching out. Have a great day!\n",
            "You: exit\n",
            "Customer Service Bot: Thank you for reaching out. Have a great day!\n"
          ]
        }
      ]
    },
    {
      "cell_type": "code",
      "source": [],
      "metadata": {
        "id": "Rj7gN87IhO-d"
      },
      "execution_count": null,
      "outputs": []
    }
  ]
}